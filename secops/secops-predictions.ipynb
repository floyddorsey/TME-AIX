{
 "cells": [
  {
   "cell_type": "markdown",
   "metadata": {},
   "source": [
    "# Telco Platform Engineering Security Operations <br> AI Insights Generation with Fine Tuning of Meta's BART Model\n",
    "Author: Fatih E. NAR <br>\n",
    "This project aims to deliver a security risk factor insights <br>\n",
    "Model Card: https://huggingface.co/google-t5/t5-small <br>"
   ]
  },
  {
   "cell_type": "code",
   "execution_count": null,
   "metadata": {},
   "outputs": [],
   "source": [
    "# Install the required packages\n",
    "%pip install -r requirements.txt"
   ]
  },
  {
   "cell_type": "code",
   "execution_count": null,
   "metadata": {},
   "outputs": [],
   "source": [
    "import pandas as pd\n",
    "import numpy as np\n",
    "from sklearn.model_selection import train_test_split\n",
    "from sklearn.preprocessing import StandardScaler\n",
    "import xgboost as xgb\n",
    "import matplotlib.pyplot as plt\n",
    "from sklearn.metrics import mean_squared_error, mean_absolute_error, r2_score\n",
    "import seaborn as sns\n",
    "import onnxmltools\n",
    "from skl2onnx.common.data_types import FloatTensorType\n",
    "\n",
    "\n",
    "# Load the data\n",
    "# why did we use parquet format? Cos we love to complicate stuff. Just kidding. \n",
    "# Parquet is a columnar storage format that is optimized for reading and writing data. \n",
    "# And it is a good choice for storing large datasets.\n",
    "data = pd.read_parquet('data/5G_SecOps_Data_10K.parquet')\n",
    "\n",
    "# Preprocess the data\n",
    "def preprocess_data(data):\n",
    "    # Convert categorical variables to numeric\n",
    "    data['Service Configurations'] = data['Service Configurations'].map({'Poor': 0, 'Medium': 1, 'Good': 2})\n",
    "    data['Service Reachability'] = data['Service Reachability'].map({'Internal': 0, 'External': 1})\n",
    "    data['RBAC Configuration'] = data['RBAC Configuration'].map({'Low': 0, 'Medium': 1, 'High': 2})\n",
    "    # Drop non-numeric columns\n",
    "    data = data.drop(columns=['Cluster', 'Namespace'])\n",
    "    return data\n",
    "\n",
    "data = preprocess_data(data)\n",
    "\n",
    "# Define features and target\n",
    "X = data.drop(columns=['Risk Score'])\n",
    "y = data['Risk Score']\n",
    "\n",
    "# Split the data into training and testing sets\n",
    "X_train, X_test, y_train, y_test = train_test_split(X, y, test_size=0.2, random_state=42)\n"
   ]
  },
  {
   "cell_type": "code",
   "execution_count": null,
   "metadata": {},
   "outputs": [],
   "source": [
    "# Standardize the features\n",
    "scaler = StandardScaler()\n",
    "X_train_scaled = scaler.fit_transform(X_train)\n",
    "X_test_scaled = scaler.transform(X_test)"
   ]
  },
  {
   "cell_type": "code",
   "execution_count": null,
   "metadata": {},
   "outputs": [],
   "source": [
    "# Train the XGBoost model with GPU support\n",
    "xgb_model = xgb.XGBRegressor(\n",
    "    objective='reg:squarederror', \n",
    "    n_estimators=100, \n",
    "    learning_rate=0.1, \n",
    "    max_depth=6, \n",
    "    #tree_method='gpu_hist'  # Use GPU for training if you have NVIDIA\n",
    "    tree_method='hist'  # Use histogram-based algorithm for CPU\n",
    ")\n",
    "xgb_model.fit(X_train_scaled, y_train)"
   ]
  },
  {
   "cell_type": "code",
   "execution_count": null,
   "metadata": {},
   "outputs": [],
   "source": [
    "# Predict the test set\n",
    "y_pred = xgb_model.predict(X_test_scaled)\n",
    "\n",
    "# Evaluate the model\n",
    "mse = mean_squared_error(y_test, y_pred)\n",
    "mae = mean_absolute_error(y_test, y_pred)\n",
    "r2 = r2_score(y_test, y_pred)\n",
    "\n",
    "print(f'Mean Squared Error: {mse}')\n",
    "print(f'Mean Absolute Error: {mae}')\n",
    "print(f'R^2 Score: {r2}')"
   ]
  },
  {
   "cell_type": "code",
   "execution_count": null,
   "metadata": {},
   "outputs": [],
   "source": [
    "# Distribution of residuals\n",
    "residuals = y_test - y_pred\n",
    "plt.figure(figsize=(10, 6))\n",
    "sns.histplot(residuals, bins=30, kde=True)\n",
    "plt.xlabel('Residuals')\n",
    "plt.ylabel('Frequency')\n",
    "plt.title('Distribution of Residuals')\n",
    "plt.show()\n",
    "\n",
    "# Scatter plot of actual vs. predicted values\n",
    "plt.figure(figsize=(10, 6))\n",
    "sns.scatterplot(x=y_test, y=y_pred, alpha=0.5, color='red', label='Predicted Risk Scores')\n",
    "plt.plot([y_test.min(), y_test.max()], [y_test.min(), y_test.max()], 'k--', lw=2, label='Actual Risk Scores')\n",
    "plt.xlabel('Actual Risk Scores')\n",
    "plt.ylabel('Predicted Risk Scores')\n",
    "plt.title('Actual vs. Predicted Risk Scores')\n",
    "plt.legend(loc='upper left')\n",
    "plt.show()\n",
    "\n",
    "# Feature importance with color gradient and percentage annotations\n",
    "feature_names = X.columns.tolist()\n",
    "importance = xgb_model.feature_importances_\n",
    "importance_dict = {name: score for name, score in zip(feature_names, importance)}\n",
    "\n",
    "# Create a color palette\n",
    "norm = plt.Normalize(min(importance_dict.values()), max(importance_dict.values()))\n",
    "colors = plt.cm.viridis(norm(list(importance_dict.values())))\n",
    "\n",
    "plt.figure(figsize=(12, 8))\n",
    "sns.barplot(x=list(importance_dict.values()), y=list(importance_dict.keys()), palette=colors)\n",
    "plt.title('Feature Importance')\n",
    "plt.xlabel('Importance Score')\n",
    "plt.ylabel('Features')\n",
    "plt.xticks(rotation=45)\n",
    "plt.tight_layout()\n",
    "\n",
    "# Add percentage annotations\n",
    "for i, (name, value) in enumerate(importance_dict.items()):\n",
    "    plt.text(value, i, f'{value * 100:.2f}%', ha='left', va='center')\n",
    "\n",
    "plt.show()"
   ]
  },
  {
   "cell_type": "code",
   "execution_count": null,
   "metadata": {},
   "outputs": [],
   "source": [
    "# Convert the model to ONNX format\n",
    "initial_type = [('float_input', FloatTensorType([None, X_train.shape[1]]))]\n",
    "onnx_model = onnxmltools.convert_xgboost(xgb_model, initial_types=initial_type)\n",
    "\n",
    "# Save the ONNX model\n",
    "onnx_model_path = 'model/xgb_risk_score_model.onnx'\n",
    "with open(onnx_model_path, 'wb') as f:\n",
    "    f.write(onnx_model.SerializeToString())\n",
    "\n",
    "print(f\"XGBoost model saved to {onnx_model_path}\")"
   ]
  }
 ],
 "metadata": {
  "kernelspec": {
   "display_name": "Python 3",
   "language": "python",
   "name": "python3"
  },
  "language_info": {
   "codemirror_mode": {
    "name": "ipython",
    "version": 3
   },
   "file_extension": ".py",
   "mimetype": "text/x-python",
   "name": "python",
   "nbconvert_exporter": "python",
   "pygments_lexer": "ipython3",
   "version": "3.9.6"
  }
 },
 "nbformat": 4,
 "nbformat_minor": 2
}
