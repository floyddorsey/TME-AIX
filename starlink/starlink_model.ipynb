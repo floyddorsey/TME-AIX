{
 "cells": [
  {
   "cell_type": "markdown",
   "metadata": {},
   "source": [
    "# Starlink SATCOM ISP Performance Monitoring with AI\n",
    "## Author: Fatih E. NAR"
   ]
  },
  {
   "cell_type": "code",
   "execution_count": null,
   "metadata": {},
   "outputs": [],
   "source": [
    "#%pip install -r requirements.txt"
   ]
  },
  {
   "cell_type": "code",
   "execution_count": null,
   "metadata": {},
   "outputs": [],
   "source": [
    "import pandas as pd\n",
    "import numpy as np\n",
    "import torch\n",
    "import torch.nn as nn\n",
    "from sklearn.preprocessing import StandardScaler, LabelEncoder\n",
    "from sklearn.model_selection import train_test_split\n",
    "import joblib\n",
    "from accelerate import Accelerator\n",
    "from torch.utils.data import DataLoader, TensorDataset"
   ]
  },
  {
   "cell_type": "code",
   "execution_count": null,
   "metadata": {},
   "outputs": [],
   "source": [
    "class StarlinkTransformer(nn.Module):\n",
    "    def __init__(self, input_dim, num_heads=4, dim_feedforward=128, dropout=0.1):\n",
    "        super().__init__()\n",
    "        self.transformer = nn.TransformerEncoder(\n",
    "            nn.TransformerEncoderLayer(\n",
    "                d_model=input_dim,\n",
    "                nhead=num_heads,\n",
    "                dim_feedforward=dim_feedforward,\n",
    "                dropout=dropout\n",
    "            ),\n",
    "            num_layers=2\n",
    "        )\n",
    "        self.fc = nn.Linear(input_dim, 1)\n",
    "\n",
    "    def forward(self, x):\n",
    "        x = self.transformer(x)\n",
    "        x = torch.mean(x, dim=1)\n",
    "        return self.fc(x)"
   ]
  },
  {
   "cell_type": "code",
   "execution_count": null,
   "metadata": {},
   "outputs": [],
   "source": [
    "# Data preparation\n",
    "df = pd.read_csv('data/starlink_data.csv')\n",
    "\n",
    "# Display basic information about the dataset\n",
    "df.info()\n",
    "\n",
    "# Display the first few rows of the dataset\n",
    "df.head()\n",
    "\n",
    "label_encoders = {}\n",
    "for cat_feat in ['season', 'weather']:\n",
    "    label_encoders[cat_feat] = LabelEncoder()\n",
    "    df[f'{cat_feat}_encoded'] = label_encoders[cat_feat].fit_transform(df[cat_feat])\n",
    "\n",
    "features = ['latitude', 'longitude', 'elevation_m', 'visible_satellites', \n",
    "           'serving_satellites', 'signal_loss_db', 'season_encoded', 'weather_encoded']\n",
    "\n",
    "X = df[features].values\n",
    "y = df['qoe_score'].values\n",
    "\n",
    "scaler = StandardScaler()\n",
    "X_scaled = scaler.fit_transform(X)\n",
    "\n",
    "# Convert to tensors and create dataloaders\n",
    "X_tensor = torch.FloatTensor(X_scaled)\n",
    "y_tensor = torch.FloatTensor(y).reshape(-1, 1)\n",
    "\n",
    "X_train, X_test, y_train, y_test = train_test_split(X_tensor, y_tensor, test_size=0.2, random_state=42)\n",
    "\n",
    "train_dataset = TensorDataset(X_train, y_train)\n",
    "test_dataset = TensorDataset(X_test, y_test)"
   ]
  },
  {
   "cell_type": "code",
   "execution_count": null,
   "metadata": {},
   "outputs": [],
   "source": [
    "# Initialize accelerator\n",
    "accelerator = Accelerator()\n",
    "\n",
    "# Model setup\n",
    "model = StarlinkTransformer(input_dim=X.shape[1])\n",
    "criterion = nn.MSELoss()\n",
    "optimizer = torch.optim.Adam(model.parameters(), lr=0.001)\n",
    "\n",
    "# Training Variables\n",
    "num_epochs = 200\n",
    "batch_size = 128\n",
    "\n",
    "train_loader = DataLoader(train_dataset, batch_size=batch_size, shuffle=True)\n",
    "test_loader = DataLoader(test_dataset, batch_size=batch_size)\n",
    "\n",
    "# Prepare for accelerated training\n",
    "model, optimizer, train_loader, test_loader = accelerator.prepare(\n",
    "    model, optimizer, train_loader, test_loader\n",
    ")\n",
    "\n",
    "for epoch in range(num_epochs):\n",
    "    model.train()\n",
    "    for batch_X, batch_y in train_loader:\n",
    "        optimizer.zero_grad()\n",
    "        outputs = model(batch_X.unsqueeze(1))\n",
    "        loss = criterion(outputs, batch_y)\n",
    "        accelerator.backward(loss)\n",
    "        optimizer.step()\n",
    "\n",
    "    if (epoch + 1) % 10 == 0:\n",
    "        model.eval()\n",
    "        test_loss = 0\n",
    "        with torch.no_grad():\n",
    "            for test_X, test_y in test_loader:\n",
    "                y_pred = model(test_X.unsqueeze(1))\n",
    "                test_loss += criterion(y_pred, test_y).item()\n",
    "        print(f'Epoch {epoch+1}, Test Loss: {test_loss/len(test_loader):.4f}')"
   ]
  },
  {
   "cell_type": "code",
   "execution_count": null,
   "metadata": {},
   "outputs": [],
   "source": [
    "# Save model and preprocessing\n",
    "accelerator.wait_for_everyone()\n",
    "unwrapped_model = accelerator.unwrap_model(model)\n",
    "torch.save(unwrapped_model.state_dict(), 'models/starlink_transformer.pth')\n",
    "joblib.dump(scaler, 'models/scaler.joblib')\n",
    "joblib.dump(label_encoders, 'models/label_encoders.joblib')"
   ]
  },
  {
   "cell_type": "code",
   "execution_count": null,
   "metadata": {},
   "outputs": [],
   "source": [
    "# Final evaluation\n",
    "model.eval()\n",
    "total_loss = 0\n",
    "y_true = []\n",
    "y_pred_list = []\n",
    "\n",
    "with torch.no_grad():\n",
    "    for test_X, test_y in test_loader:\n",
    "        y_pred = model(test_X.unsqueeze(1))\n",
    "        loss = criterion(y_pred, test_y)\n",
    "        total_loss += loss.item()\n",
    "        y_true.extend(test_y.cpu().numpy())\n",
    "        y_pred_list.extend(y_pred.cpu().numpy())\n",
    "\n",
    "final_loss = total_loss / len(test_loader)\n",
    "y_true = np.array(y_true)\n",
    "y_pred = np.array(y_pred_list)\n",
    "r2 = 1 - np.sum((y_true - y_pred) ** 2) / np.sum((y_true - np.mean(y_true)) ** 2)\n",
    "print(f'\\nFinal R² Score: {r2:.3f}')"
   ]
  }
 ],
 "metadata": {
  "kernelspec": {
   "display_name": "Python 3.11",
   "language": "python",
   "name": "python3"
  },
  "language_info": {
   "codemirror_mode": {
    "name": "ipython",
    "version": 3
   },
   "file_extension": ".py",
   "mimetype": "text/x-python",
   "name": "python",
   "nbconvert_exporter": "python",
   "pygments_lexer": "ipython3",
   "version": "3.11.7"
  }
 },
 "nbformat": 4,
 "nbformat_minor": 4
}
